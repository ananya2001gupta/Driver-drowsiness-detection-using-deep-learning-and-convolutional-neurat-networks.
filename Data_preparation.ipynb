{
  "nbformat": 4,
  "nbformat_minor": 0,
  "metadata": {
    "colab": {
      "provenance": []
    },
    "kernelspec": {
      "name": "python3",
      "display_name": "Python 3"
    },
    "language_info": {
      "name": "python"
    }
  },
  "cells": [
    {
      "cell_type": "code",
      "source": [
        "import os     #We will go through folders.\n",
        "import shutil     #We need to copy paste from folder open eyes and close eyes.\n",
        "import glob\n",
        "from tqdm import tqdm     #It will create a progess bar just for decoration kind."
      ],
      "metadata": {
        "id": "g2vJfzRtEQUL"
      },
      "execution_count": null,
      "outputs": []
    },
    {
      "cell_type": "markdown",
      "source": [
        "subject ID:\n",
        "xxx\n",
        "\n",
        "image number:\n",
        "xxx\n",
        "\n",
        "gender:\n",
        "0 - male\n",
        "1 - famale\n",
        "\n",
        "glasses:\n",
        "0 - no\n",
        "1 - yes\n",
        "\n",
        "eye state:\n",
        "0 - close\n",
        "1 - open\n",
        "\n",
        "reflections:\n",
        "0 - none\n",
        "1 - low\n",
        "2 - high\n",
        "\n",
        "lighting conditions/image quality:\n",
        "0 - bad\n",
        "1 - good\n",
        "\n",
        "sensor type:\n",
        "01 - RealSense SR300 640x480\n",
        "02 - IDS Imaging, 1280x1024\n",
        "03 - Aptina Imagin 752x480\n",
        "\n",
        "example:\n",
        "s001_00123_0_0_0_0_0_01.png\n"
      ],
      "metadata": {
        "id": "1b4dWakZKGAO"
      }
    },
    {
      "cell_type": "code",
      "source": [
        "CLOSE_EYE_DIR = os.path.join(\"MRL Eye Data\", \"Prepared_Data\", \"Close Eyes\")\n",
        "OPEN_EYE_DIR = os.path.join(\"MRL Eye Data\", \"Prepared_Data\", \"Open Eyes\")\n",
        "\n",
        "os.makedirs(CLOSE_EYE_DIR, exist_ok = True)\n",
        "print(\"Directory '%s' created successfully\" %CLOSE_EYE_DIR)\n",
        "\n",
        "os.makedirs(OPEN_EYE_DIR, exist_ok = True)\n",
        "print(\"Directory '%s' created successfully\" %OPEN_EYE_DIR)\n",
        "\n",
        "                \n",
        "Raw_DIR = os.path.join(\"MRL Eye Data\", \"mrlEyes_2018_01\")\n",
        "for dirpath, dirname, filenames in os.walk(Raw_DIR):\n",
        "     for i in tqdm([f for f in filenames if f.endswith('.png')]):\n",
        "         if i.split('_')[4] == '0':\n",
        "                shutil.copy(src = dirpath + '/' + i, dst = CLOSE_EYE_DIR)\n",
        "         elif i.split('_')[4] == '1':\n",
        "                shutil.copy(src=dirpath + '/' + i, dst = OPEN_EYE_DIR)"
      ],
      "metadata": {
        "id": "xGioaB2vJ4JP",
        "colab": {
          "base_uri": "https://localhost:8080/"
        },
        "outputId": "b09ae3d8-7331-4557-e22c-434fcb3fc683"
      },
      "execution_count": null,
      "outputs": [
        {
          "output_type": "stream",
          "name": "stdout",
          "text": [
            "Directory 'MRL Eye Data/Prepared_Data/Close Eyes' created successfully\n",
            "Directory 'MRL Eye Data/Prepared_Data/Open Eyes' created successfully\n"
          ]
        }
      ]
    }
  ]
}